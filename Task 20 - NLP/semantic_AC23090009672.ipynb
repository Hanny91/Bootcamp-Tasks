{
 "cells": [
  {
   "cell_type": "code",
   "execution_count": 38,
   "metadata": {},
   "outputs": [],
   "source": [
    "import spacy\n",
    "nlp = spacy.load('en_core_web_md')\n",
    "# the small model shows higher similarity per word\n",
    "# But mostly lower similarity when analysing sentences"
   ]
  },
  {
   "cell_type": "code",
   "execution_count": 39,
   "metadata": {},
   "outputs": [
    {
     "name": "stdout",
     "output_type": "stream",
     "text": [
      "0.5929930274321619\n",
      "0.40415016164997786\n",
      "0.22358825939615987\n"
     ]
    }
   ],
   "source": [
    "word1 =nlp(\"cat\")\n",
    "word2 =nlp(\"monkey\")\n",
    "word3 =nlp(\"banana\")\n",
    "\n",
    "print(word1.similarity(word2))\n",
    "print(word3.similarity(word2))\n",
    "print(word3.similarity(word1))"
   ]
  },
  {
   "cell_type": "code",
   "execution_count": 44,
   "metadata": {},
   "outputs": [
    {
     "name": "stdout",
     "output_type": "stream",
     "text": [
      "words words 1.0\n",
      "words paper 0.26410138607025146\n",
      "words speech 0.4870714843273163\n",
      "words flower 0.20878095924854279\n",
      "paper words 0.26410138607025146\n",
      "paper paper 1.0\n",
      "paper speech 0.26128989458084106\n",
      "paper flower 0.29383155703544617\n",
      "speech words 0.4870714843273163\n",
      "speech paper 0.26128989458084106\n",
      "speech speech 1.0\n",
      "speech flower 0.05896121263504028\n",
      "flower words 0.20878095924854279\n",
      "flower paper 0.29383155703544617\n",
      "flower speech 0.05896121263504028\n",
      "flower flower 1.0\n"
     ]
    }
   ],
   "source": [
    "tokens = nlp(\"words paper speech flower\")\n",
    "\n",
    "for token1 in tokens:\n",
    "    for token2 in tokens:\n",
    "        print(token1.text, token2.text, token1.similarity(token2))\n",
    "\n",
    "# Animals and fruits show the most similarity, with bananas and monkeys showing smaller similarity"
   ]
  },
  {
   "cell_type": "code",
   "execution_count": 45,
   "metadata": {},
   "outputs": [
    {
     "name": "stdout",
     "output_type": "stream",
     "text": [
      "where did my dog go-0.630065230699739\n",
      "Hello, there is my carI've lost my car in my car-0.7954518514248127\n",
      "I'd like my boat back-0.5624940517078084\n",
      "I will name my dog Diana-0.6491444739190607\n"
     ]
    }
   ],
   "source": [
    "sentence_to_compare = 'Why is my cat on the car'\n",
    "sentences = ['where did my dog go', 'Hello, there is my car' \\\n",
    "             'I\\'ve lost my car in my car', 'I\\'d like my boat back', \\\n",
    "            'I will name my dog Diana']\n",
    "\n",
    "model_sentence = nlp(sentence_to_compare)\n",
    "\n",
    "for sentence in sentences:\n",
    "    similarity = nlp(sentence).similarity(model_sentence)\n",
    "    print(str(sentence) + \"-\" + str(similarity))"
   ]
  }
 ],
 "metadata": {
  "kernelspec": {
   "display_name": "base",
   "language": "python",
   "name": "python3"
  },
  "language_info": {
   "codemirror_mode": {
    "name": "ipython",
    "version": 3
   },
   "file_extension": ".py",
   "mimetype": "text/x-python",
   "name": "python",
   "nbconvert_exporter": "python",
   "pygments_lexer": "ipython3",
   "version": "3.12.2"
  }
 },
 "nbformat": 4,
 "nbformat_minor": 2
}
