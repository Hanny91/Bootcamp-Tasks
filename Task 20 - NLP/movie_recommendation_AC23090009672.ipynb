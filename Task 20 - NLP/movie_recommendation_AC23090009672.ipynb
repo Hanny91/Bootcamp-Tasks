{
 "cells": [
  {
   "cell_type": "code",
   "execution_count": 11,
   "metadata": {},
   "outputs": [],
   "source": [
    "import spacy\n",
    "import pandas as pd\n",
    "nlp = spacy.load('en_core_web_md')"
   ]
  },
  {
   "cell_type": "code",
   "execution_count": 12,
   "metadata": {},
   "outputs": [
    {
     "data": {
      "text/plain": [
       "[['Movie A', ' \"How to Train Your Dragon: The Hidden World\"'],\n",
       " ['Movie B', ' \"Reign of the Supermen\"'],\n",
       " ['Movie C', ' \"Suspiria\"'],\n",
       " ['Movie D', ' \"Holmes & Watson\"'],\n",
       " ['Movie E', ' \"Summer \\'03\"'],\n",
       " ['Movie F', ' \"The Captain\"'],\n",
       " ['Movie G', ' \"The Last Boy\"'],\n",
       " ['Movie H', ' \"A Star Is Born\"'],\n",
       " ['Movie I', ' \"The Most Wonderful Time of the Year\"'],\n",
       " ['Movie J', ' \"Ladies in Black\"']]"
      ]
     },
     "execution_count": 12,
     "metadata": {},
     "output_type": "execute_result"
    }
   ],
   "source": [
    "# Making the movies document into a 2d list\n",
    "with open(\"movies.txt\", \"r\") as file:\n",
    "    movies = file.read()\n",
    "movies = movies.strip().replace(' :', ': ')\n",
    "movies_list = movies.split(sep='\\n')\n",
    "movies_2d = [movie.split(':', 1) for movie in movies_list]\n",
    "movies_2d\n",
    "\n",
    "# Making the titles document into a 2d list\n",
    "with open(\"titles.txt\", \"r\") as file:\n",
    "    titles = file.read()\n",
    "titles = titles.strip()\n",
    "titles_list = titles.split(sep='\\n')\n",
    "titles_2d = [title.split(':', 1) for title in titles_list]\n",
    "titles_2d"
   ]
  },
  {
   "cell_type": "code",
   "execution_count": 13,
   "metadata": {},
   "outputs": [],
   "source": [
    "# Caltulating similarity between movies\n",
    "movie_to_compare = 'Will he save their world or destroy it? When the Hulk becomes too dangerous for the Earth, the Illuminati trick Hulk into a shuttle and lauch him into space to a planet where the Hulk can live in peace. Unfortunately, Hulk lands on the planet Sakaar where he is sold into slavery and trained as a gladiator'\n",
    "similarities = []\n",
    "def movies_score(movie_to_compare):\n",
    "    model_sentence = nlp(movie_to_compare)\n",
    "    for movie in movies_list:\n",
    "        similarity = nlp(movie).similarity(model_sentence)\n",
    "        similarities.append(similarity)"
   ]
  },
  {
   "cell_type": "code",
   "execution_count": 14,
   "metadata": {},
   "outputs": [
    {
     "data": {
      "text/html": [
       "<div>\n",
       "<style scoped>\n",
       "    .dataframe tbody tr th:only-of-type {\n",
       "        vertical-align: middle;\n",
       "    }\n",
       "\n",
       "    .dataframe tbody tr th {\n",
       "        vertical-align: top;\n",
       "    }\n",
       "\n",
       "    .dataframe thead th {\n",
       "        text-align: right;\n",
       "    }\n",
       "</style>\n",
       "<table border=\"1\" class=\"dataframe\">\n",
       "  <thead>\n",
       "    <tr style=\"text-align: right;\">\n",
       "      <th></th>\n",
       "      <th>Movie</th>\n",
       "      <th>Title</th>\n",
       "      <th>Description</th>\n",
       "      <th>Similarity</th>\n",
       "    </tr>\n",
       "  </thead>\n",
       "  <tbody>\n",
       "    <tr>\n",
       "      <th>0</th>\n",
       "      <td>Movie A</td>\n",
       "      <td>\"How to Train Your Dragon: The Hidden World\"</td>\n",
       "      <td>When Hiccup discovers Toothless isn't the onl...</td>\n",
       "      <td>0.777559</td>\n",
       "    </tr>\n",
       "    <tr>\n",
       "      <th>1</th>\n",
       "      <td>Movie B</td>\n",
       "      <td>\"Reign of the Supermen\"</td>\n",
       "      <td>After the death of Superman, several new peop...</td>\n",
       "      <td>0.744611</td>\n",
       "    </tr>\n",
       "    <tr>\n",
       "      <th>2</th>\n",
       "      <td>Movie C</td>\n",
       "      <td>\"Suspiria\"</td>\n",
       "      <td>A darkness swirls at the center of a world-re...</td>\n",
       "      <td>0.882814</td>\n",
       "    </tr>\n",
       "    <tr>\n",
       "      <th>3</th>\n",
       "      <td>Movie D</td>\n",
       "      <td>\"Holmes &amp; Watson\"</td>\n",
       "      <td>A humorous take on Sir Arthur Conan Doyle's c...</td>\n",
       "      <td>0.373183</td>\n",
       "    </tr>\n",
       "    <tr>\n",
       "      <th>4</th>\n",
       "      <td>Movie E</td>\n",
       "      <td>\"Summer '03\"</td>\n",
       "      <td>A 16-year-old girl and her extended family ar...</td>\n",
       "      <td>0.666872</td>\n",
       "    </tr>\n",
       "    <tr>\n",
       "      <th>5</th>\n",
       "      <td>Movie F</td>\n",
       "      <td>\"The Captain\"</td>\n",
       "      <td>In the last moments of World War II, a young ...</td>\n",
       "      <td>0.873344</td>\n",
       "    </tr>\n",
       "    <tr>\n",
       "      <th>6</th>\n",
       "      <td>Movie G</td>\n",
       "      <td>\"The Last Boy\"</td>\n",
       "      <td>The world at an end, a dying mother sends her...</td>\n",
       "      <td>0.875174</td>\n",
       "    </tr>\n",
       "    <tr>\n",
       "      <th>7</th>\n",
       "      <td>Movie H</td>\n",
       "      <td>\"A Star Is Born\"</td>\n",
       "      <td>A musician helps a young singer and actress f...</td>\n",
       "      <td>0.796800</td>\n",
       "    </tr>\n",
       "    <tr>\n",
       "      <th>8</th>\n",
       "      <td>Movie I</td>\n",
       "      <td>\"The Most Wonderful Time of the Year\"</td>\n",
       "      <td>Corporate analyst and single mom, Jen, tackle...</td>\n",
       "      <td>0.815585</td>\n",
       "    </tr>\n",
       "    <tr>\n",
       "      <th>9</th>\n",
       "      <td>Movie J</td>\n",
       "      <td>\"Ladies in Black\"</td>\n",
       "      <td>Adapted from the bestselling novel by Madelei...</td>\n",
       "      <td>0.697430</td>\n",
       "    </tr>\n",
       "  </tbody>\n",
       "</table>\n",
       "</div>"
      ],
      "text/plain": [
       "     Movie                                          Title  \\\n",
       "0  Movie A   \"How to Train Your Dragon: The Hidden World\"   \n",
       "1  Movie B                        \"Reign of the Supermen\"   \n",
       "2  Movie C                                     \"Suspiria\"   \n",
       "3  Movie D                              \"Holmes & Watson\"   \n",
       "4  Movie E                                   \"Summer '03\"   \n",
       "5  Movie F                                  \"The Captain\"   \n",
       "6  Movie G                                 \"The Last Boy\"   \n",
       "7  Movie H                               \"A Star Is Born\"   \n",
       "8  Movie I          \"The Most Wonderful Time of the Year\"   \n",
       "9  Movie J                              \"Ladies in Black\"   \n",
       "\n",
       "                                         Description  Similarity  \n",
       "0   When Hiccup discovers Toothless isn't the onl...    0.777559  \n",
       "1   After the death of Superman, several new peop...    0.744611  \n",
       "2   A darkness swirls at the center of a world-re...    0.882814  \n",
       "3   A humorous take on Sir Arthur Conan Doyle's c...    0.373183  \n",
       "4   A 16-year-old girl and her extended family ar...    0.666872  \n",
       "5   In the last moments of World War II, a young ...    0.873344  \n",
       "6   The world at an end, a dying mother sends her...    0.875174  \n",
       "7   A musician helps a young singer and actress f...    0.796800  \n",
       "8   Corporate analyst and single mom, Jen, tackle...    0.815585  \n",
       "9   Adapted from the bestselling novel by Madelei...    0.697430  "
      ]
     },
     "execution_count": 14,
     "metadata": {},
     "output_type": "execute_result"
    }
   ],
   "source": [
    " # Creating a data frame with movies, titles and similarity scores\n",
    "df_titles = pd.DataFrame(titles_2d, columns = ['Movie', 'Title'])\n",
    "df_movies = pd.DataFrame(movies_2d, columns = ['Movie', 'Description'])\n",
    "df = pd.merge(df_titles, df_movies, how='outer', on='Movie')\n",
    "df['Similarity'] = similarities\n",
    "df"
   ]
  },
  {
   "cell_type": "code",
   "execution_count": 19,
   "metadata": {},
   "outputs": [
    {
     "name": "stdout",
     "output_type": "stream",
     "text": [
      "The movie you are more likely to like is:  \"Suspiria\"\n"
     ]
    }
   ],
   "source": [
    "# Outputting the title of the recommended movie\n",
    "def movie_choice():\n",
    "    best_match = df['Similarity'].idxmax()\n",
    "    best_match_title = df.loc[best_match, 'Title']\n",
    "    return best_match_title\n",
    "\n",
    "\n",
    "print(f'The movie you are more likely to like is: {movie_choice()}')\n",
    "    "
   ]
  }
 ],
 "metadata": {
  "kernelspec": {
   "display_name": "base",
   "language": "python",
   "name": "python3"
  },
  "language_info": {
   "codemirror_mode": {
    "name": "ipython",
    "version": 3
   },
   "file_extension": ".py",
   "mimetype": "text/x-python",
   "name": "python",
   "nbconvert_exporter": "python",
   "pygments_lexer": "ipython3",
   "version": "3.12.2"
  }
 },
 "nbformat": 4,
 "nbformat_minor": 2
}
